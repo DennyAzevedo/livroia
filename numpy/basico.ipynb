{
 "cells": [
  {
   "cell_type": "code",
   "execution_count": 2,
   "metadata": {},
   "outputs": [],
   "source": [
    "import numpy as np"
   ]
  },
  {
   "cell_type": "code",
   "execution_count": 4,
   "metadata": {},
   "outputs": [],
   "source": [
    "data = np.array([2,4,6,8,10])"
   ]
  },
  {
   "cell_type": "code",
   "execution_count": 5,
   "metadata": {},
   "outputs": [
    {
     "name": "stdout",
     "output_type": "stream",
     "text": [
      "[ 2  4  6  8 10]\n",
      "<class 'numpy.ndarray'>\n",
      "(5,)\n"
     ]
    }
   ],
   "source": [
    "print(data)\n",
    "print(type(data))\n",
    "print(data.shape)"
   ]
  },
  {
   "cell_type": "code",
   "execution_count": 6,
   "metadata": {},
   "outputs": [
    {
     "name": "stdout",
     "output_type": "stream",
     "text": [
      "[ 0  1  2  3  4  5  6  7  8  9 10 11 12 13 14]\n"
     ]
    }
   ],
   "source": [
    "data = np.arange(15)\n",
    "print(data)"
   ]
  },
  {
   "cell_type": "code",
   "execution_count": 7,
   "metadata": {},
   "outputs": [
    {
     "name": "stdout",
     "output_type": "stream",
     "text": [
      "[0.14575144 0.11530594 0.48972632 0.54800687 0.21460113 0.57271236\n",
      " 0.86310182 0.31211743 0.1213503  0.3963097  0.31075303 0.46584921\n",
      " 0.53994759 0.96990171 0.63635091]\n"
     ]
    }
   ],
   "source": [
    "data = np.random.rand(15)\n",
    "print(data)"
   ]
  },
  {
   "cell_type": "code",
   "execution_count": 8,
   "metadata": {},
   "outputs": [
    {
     "name": "stdout",
     "output_type": "stream",
     "text": [
      "[0 9 7 4 2 9 2 3 9 6]\n"
     ]
    }
   ],
   "source": [
    "data = np.random.randint(10, size=10)\n",
    "print(data)"
   ]
  },
  {
   "cell_type": "code",
   "execution_count": 18,
   "metadata": {},
   "outputs": [
    {
     "name": "stdout",
     "output_type": "stream",
     "text": [
      "[[0.50720805 0.40740001]\n",
      " [0.3790311  0.04291408]]\n"
     ]
    }
   ],
   "source": [
    "data = np.random.random((2,2))\n",
    "print(data)"
   ]
  },
  {
   "cell_type": "code",
   "execution_count": 20,
   "metadata": {},
   "outputs": [
    {
     "name": "stdout",
     "output_type": "stream",
     "text": [
      "[[0. 0. 0. 0.]\n",
      " [0. 0. 0. 0.]\n",
      " [0. 0. 0. 0.]]\n"
     ]
    }
   ],
   "source": [
    "data = np.zeros((3,4))\n",
    "print(data)"
   ]
  },
  {
   "cell_type": "code",
   "execution_count": 16,
   "metadata": {},
   "outputs": [
    {
     "name": "stdout",
     "output_type": "stream",
     "text": [
      "[[1. 1. 1. 1.]\n",
      " [1. 1. 1. 1.]\n",
      " [1. 1. 1. 1.]]\n"
     ]
    }
   ],
   "source": [
    "data = np.ones((3,4))\n",
    "print(data)"
   ]
  },
  {
   "cell_type": "code",
   "execution_count": 22,
   "metadata": {},
   "outputs": [
    {
     "name": "stdout",
     "output_type": "stream",
     "text": [
      "[[0. 0. 0. 0.]\n",
      " [0. 0. 0. 0.]\n",
      " [0. 0. 0. 0.]]\n"
     ]
    }
   ],
   "source": [
    "data = np.empty((3,4))\n",
    "print(data)"
   ]
  },
  {
   "cell_type": "code",
   "execution_count": 23,
   "metadata": {},
   "outputs": [
    {
     "name": "stdout",
     "output_type": "stream",
     "text": [
      "[ 0 -1 -2 -3 -4 -5 -6 -7 -8 -9]\n"
     ]
    }
   ],
   "source": [
    "data = np.arange(10) * -1\n",
    "print(data)"
   ]
  },
  {
   "cell_type": "code",
   "execution_count": 24,
   "metadata": {},
   "outputs": [
    {
     "name": "stdout",
     "output_type": "stream",
     "text": [
      "[6 9 0 7 3 2 8 5 4 1]\n"
     ]
    }
   ],
   "source": [
    "tamanho = 10\n",
    "data = np.random.permutation(tamanho)\n",
    "print(data)"
   ]
  },
  {
   "cell_type": "code",
   "execution_count": 25,
   "metadata": {},
   "outputs": [
    {
     "name": "stdout",
     "output_type": "stream",
     "text": [
      "[2 1 0 4 2 2 4 1 0 4]\n",
      "(10,)\n"
     ]
    }
   ],
   "source": [
    "data = np.random.randint(5, size = 10)\n",
    "print(data)\n",
    "print(data.shape)"
   ]
  },
  {
   "cell_type": "code",
   "execution_count": 26,
   "metadata": {},
   "outputs": [
    {
     "name": "stdout",
     "output_type": "stream",
     "text": [
      "[[2 1 0 1]\n",
      " [0 4 1 3]\n",
      " [1 3 2 1]]\n",
      "(3, 4)\n"
     ]
    }
   ],
   "source": [
    "data = np.random.randint(5, size = (3,4))\n",
    "print(data)\n",
    "print(data.shape)"
   ]
  },
  {
   "cell_type": "code",
   "execution_count": 27,
   "metadata": {},
   "outputs": [
    {
     "name": "stdout",
     "output_type": "stream",
     "text": [
      "[[[1 0 4 3]\n",
      "  [2 3 4 1]\n",
      "  [1 0 3 4]]\n",
      "\n",
      " [[1 4 1 0]\n",
      "  [4 4 4 2]\n",
      "  [4 2 4 4]]\n",
      "\n",
      " [[2 2 4 3]\n",
      "  [0 3 4 4]\n",
      "  [3 2 1 2]]\n",
      "\n",
      " [[0 2 1 3]\n",
      "  [2 2 3 3]\n",
      "  [1 4 2 3]]\n",
      "\n",
      " [[1 1 2 0]\n",
      "  [3 3 4 0]\n",
      "  [2 0 2 1]]]\n",
      "(5, 3, 4)\n"
     ]
    }
   ],
   "source": [
    "data = np.random.randint(5, size = (5,3,4))\n",
    "print(data)\n",
    "print(data.shape)"
   ]
  },
  {
   "cell_type": "code",
   "execution_count": 28,
   "metadata": {},
   "outputs": [
    {
     "name": "stdout",
     "output_type": "stream",
     "text": [
      "[[1 2 3 4]\n",
      " [1 3 5 7]]\n",
      "(2, 4)\n"
     ]
    }
   ],
   "source": [
    "data = np.array([[1,2,3,4],[1,3,5,7]])\n",
    "print(data)\n",
    "print(data.shape)"
   ]
  },
  {
   "cell_type": "code",
   "execution_count": 29,
   "metadata": {},
   "outputs": [
    {
     "name": "stdout",
     "output_type": "stream",
     "text": [
      "[[1 2 3 4]\n",
      " [1 3 5 7]]\n",
      "(2, 4)\n",
      "[1 2 3 4 1 3 5 7]\n",
      "(8,)\n"
     ]
    }
   ],
   "source": [
    "data = np.array([(1,2,3,4),(1,3,5,7)])\n",
    "print(data)\n",
    "print(data.shape)\n",
    "data_flat = data.flatten()\n",
    "print(data_flat)\n",
    "print(data_flat.shape)"
   ]
  },
  {
   "cell_type": "code",
   "execution_count": 31,
   "metadata": {},
   "outputs": [
    {
     "name": "stdout",
     "output_type": "stream",
     "text": [
      "[[[2 1 4 1]\n",
      "  [3 2 4 3]\n",
      "  [0 3 0 0]]\n",
      "\n",
      " [[4 4 2 1]\n",
      "  [3 2 1 3]\n",
      "  [1 4 4 3]]\n",
      "\n",
      " [[0 0 0 3]\n",
      "  [1 2 3 4]\n",
      "  [4 0 3 0]]\n",
      "\n",
      " [[1 0 0 2]\n",
      "  [4 3 2 4]\n",
      "  [1 3 3 1]]]\n",
      "(4, 3, 4)\n",
      "3\n",
      "48\n"
     ]
    }
   ],
   "source": [
    "data = np.random.randint(5, size = (4,3,4))\n",
    "print(data)\n",
    "print(data.shape)\n",
    "print(data.ndim)\n",
    "print(data.size)"
   ]
  },
  {
   "cell_type": "code",
   "execution_count": 33,
   "metadata": {},
   "outputs": [
    {
     "name": "stdout",
     "output_type": "stream",
     "text": [
      "Cada elemento possui 4 bytes\n",
      "Toda a matriz possui 192 bytes\n"
     ]
    }
   ],
   "source": [
    "print(f'Cada elemento possui {data.itemsize} bytes')\n",
    "print(f'Toda a matriz possui {data.nbytes} bytes')"
   ]
  }
 ],
 "metadata": {
  "kernelspec": {
   "display_name": "Python 3",
   "language": "python",
   "name": "python3"
  },
  "language_info": {
   "codemirror_mode": {
    "name": "ipython",
    "version": 3
   },
   "file_extension": ".py",
   "mimetype": "text/x-python",
   "name": "python",
   "nbconvert_exporter": "python",
   "pygments_lexer": "ipython3",
   "version": "3.11.4"
  },
  "orig_nbformat": 4
 },
 "nbformat": 4,
 "nbformat_minor": 2
}
