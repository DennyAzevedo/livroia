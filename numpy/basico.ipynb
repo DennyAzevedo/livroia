{
 "cells": [
  {
   "cell_type": "code",
   "execution_count": 2,
   "metadata": {},
   "outputs": [],
   "source": [
    "import numpy as np"
   ]
  },
  {
   "cell_type": "code",
   "execution_count": 3,
   "metadata": {},
   "outputs": [],
   "source": [
    "data = np.array([2,4,6,8,10])"
   ]
  },
  {
   "cell_type": "code",
   "execution_count": 4,
   "metadata": {},
   "outputs": [
    {
     "name": "stdout",
     "output_type": "stream",
     "text": [
      "[ 2  4  6  8 10]\n",
      "<class 'numpy.ndarray'>\n",
      "(5,)\n"
     ]
    }
   ],
   "source": [
    "print(data)\n",
    "print(type(data))\n",
    "print(data.shape)"
   ]
  },
  {
   "cell_type": "code",
   "execution_count": 5,
   "metadata": {},
   "outputs": [
    {
     "name": "stdout",
     "output_type": "stream",
     "text": [
      "[ 0  1  2  3  4  5  6  7  8  9 10 11 12 13 14]\n"
     ]
    }
   ],
   "source": [
    "data = np.arange(15)\n",
    "print(data)"
   ]
  },
  {
   "cell_type": "code",
   "execution_count": 6,
   "metadata": {},
   "outputs": [
    {
     "name": "stdout",
     "output_type": "stream",
     "text": [
      "[0.04832158 0.76784528 0.09109409 0.94958692 0.15773438 0.46396401\n",
      " 0.23585646 0.64026852 0.46006382 0.5635916  0.94360428 0.36425155\n",
      " 0.7756589  0.14026503 0.06391798]\n"
     ]
    }
   ],
   "source": [
    "data = np.random.rand(15)\n",
    "print(data)"
   ]
  },
  {
   "cell_type": "code",
   "execution_count": 7,
   "metadata": {},
   "outputs": [
    {
     "name": "stdout",
     "output_type": "stream",
     "text": [
      "[4 3 8 1 9 1 6 8 8 1]\n"
     ]
    }
   ],
   "source": [
    "data = np.random.randint(10, size=10)\n",
    "print(data)"
   ]
  },
  {
   "cell_type": "code",
   "execution_count": 8,
   "metadata": {},
   "outputs": [
    {
     "name": "stdout",
     "output_type": "stream",
     "text": [
      "[[0.96955901 0.94175523]\n",
      " [0.96254082 0.01052147]]\n"
     ]
    }
   ],
   "source": [
    "data = np.random.random((2,2))\n",
    "print(data)"
   ]
  },
  {
   "cell_type": "code",
   "execution_count": 9,
   "metadata": {},
   "outputs": [
    {
     "name": "stdout",
     "output_type": "stream",
     "text": [
      "[[0. 0. 0. 0.]\n",
      " [0. 0. 0. 0.]\n",
      " [0. 0. 0. 0.]]\n"
     ]
    }
   ],
   "source": [
    "data = np.zeros((3,4))\n",
    "print(data)"
   ]
  },
  {
   "cell_type": "code",
   "execution_count": 10,
   "metadata": {},
   "outputs": [
    {
     "name": "stdout",
     "output_type": "stream",
     "text": [
      "[[1. 1. 1. 1.]\n",
      " [1. 1. 1. 1.]\n",
      " [1. 1. 1. 1.]]\n"
     ]
    }
   ],
   "source": [
    "data = np.ones((3,4))\n",
    "print(data)"
   ]
  },
  {
   "cell_type": "code",
   "execution_count": 11,
   "metadata": {},
   "outputs": [
    {
     "name": "stdout",
     "output_type": "stream",
     "text": [
      "[[1. 1. 1. 1.]\n",
      " [1. 1. 1. 1.]\n",
      " [1. 1. 1. 1.]]\n"
     ]
    }
   ],
   "source": [
    "data = np.empty((3,4))\n",
    "print(data)"
   ]
  },
  {
   "cell_type": "code",
   "execution_count": 12,
   "metadata": {},
   "outputs": [
    {
     "name": "stdout",
     "output_type": "stream",
     "text": [
      "[ 0 -1 -2 -3 -4 -5 -6 -7 -8 -9]\n"
     ]
    }
   ],
   "source": [
    "data = np.arange(10) * -1\n",
    "print(data)"
   ]
  },
  {
   "cell_type": "code",
   "execution_count": 13,
   "metadata": {},
   "outputs": [
    {
     "name": "stdout",
     "output_type": "stream",
     "text": [
      "[2 8 1 6 5 4 0 3 7 9]\n"
     ]
    }
   ],
   "source": [
    "tamanho = 10\n",
    "data = np.random.permutation(tamanho)\n",
    "print(data)"
   ]
  },
  {
   "cell_type": "code",
   "execution_count": 14,
   "metadata": {},
   "outputs": [
    {
     "name": "stdout",
     "output_type": "stream",
     "text": [
      "[2 0 3 1 3 0 4 0 4 1]\n",
      "(10,)\n"
     ]
    }
   ],
   "source": [
    "data = np.random.randint(5, size = 10)\n",
    "print(data)\n",
    "print(data.shape)"
   ]
  },
  {
   "cell_type": "code",
   "execution_count": 15,
   "metadata": {},
   "outputs": [
    {
     "name": "stdout",
     "output_type": "stream",
     "text": [
      "[[2 1 3 4]\n",
      " [2 0 0 3]\n",
      " [1 3 0 2]]\n",
      "(3, 4)\n"
     ]
    }
   ],
   "source": [
    "data = np.random.randint(5, size = (3,4))\n",
    "print(data)\n",
    "print(data.shape)"
   ]
  },
  {
   "cell_type": "code",
   "execution_count": 16,
   "metadata": {},
   "outputs": [
    {
     "name": "stdout",
     "output_type": "stream",
     "text": [
      "[[[2 3 2 4]\n",
      "  [4 3 0 1]\n",
      "  [4 3 2 2]]\n",
      "\n",
      " [[0 0 0 2]\n",
      "  [1 4 1 3]\n",
      "  [2 1 2 3]]\n",
      "\n",
      " [[4 2 3 2]\n",
      "  [1 3 1 4]\n",
      "  [2 1 0 4]]\n",
      "\n",
      " [[2 4 2 0]\n",
      "  [4 3 1 2]\n",
      "  [4 2 0 1]]\n",
      "\n",
      " [[2 3 2 1]\n",
      "  [2 3 3 1]\n",
      "  [1 1 4 3]]]\n",
      "(5, 3, 4)\n"
     ]
    }
   ],
   "source": [
    "data = np.random.randint(5, size = (5,3,4))\n",
    "print(data)\n",
    "print(data.shape)"
   ]
  },
  {
   "cell_type": "code",
   "execution_count": 17,
   "metadata": {},
   "outputs": [
    {
     "name": "stdout",
     "output_type": "stream",
     "text": [
      "[[1 2 3 4]\n",
      " [1 3 5 7]]\n",
      "(2, 4)\n"
     ]
    }
   ],
   "source": [
    "data = np.array([[1,2,3,4],[1,3,5,7]])\n",
    "print(data)\n",
    "print(data.shape)"
   ]
  },
  {
   "cell_type": "code",
   "execution_count": 18,
   "metadata": {},
   "outputs": [
    {
     "name": "stdout",
     "output_type": "stream",
     "text": [
      "[[1 2 3 4]\n",
      " [1 3 5 7]]\n",
      "(2, 4)\n",
      "[1 2 3 4 1 3 5 7]\n",
      "(8,)\n"
     ]
    }
   ],
   "source": [
    "data = np.array([(1,2,3,4),(1,3,5,7)])\n",
    "print(data)\n",
    "print(data.shape)\n",
    "data_flat = data.flatten()\n",
    "print(data_flat)\n",
    "print(data_flat.shape)"
   ]
  },
  {
   "cell_type": "code",
   "execution_count": 19,
   "metadata": {},
   "outputs": [
    {
     "name": "stdout",
     "output_type": "stream",
     "text": [
      "[[[3 2 0 1]\n",
      "  [3 4 1 4]\n",
      "  [3 4 1 2]]\n",
      "\n",
      " [[0 1 3 1]\n",
      "  [3 3 2 1]\n",
      "  [3 1 3 1]]\n",
      "\n",
      " [[1 0 3 2]\n",
      "  [4 1 1 4]\n",
      "  [2 0 3 3]]\n",
      "\n",
      " [[0 1 2 3]\n",
      "  [3 3 4 1]\n",
      "  [0 3 2 0]]]\n",
      "(4, 3, 4)\n",
      "3\n",
      "48\n"
     ]
    }
   ],
   "source": [
    "data = np.random.randint(5, size = (4,3,4))\n",
    "print(data)\n",
    "print(data.shape)\n",
    "print(data.ndim)\n",
    "print(data.size)"
   ]
  },
  {
   "cell_type": "code",
   "execution_count": 20,
   "metadata": {},
   "outputs": [
    {
     "name": "stdout",
     "output_type": "stream",
     "text": [
      "Cada elemento possui 4 bytes\n",
      "Toda a matriz possui 192 bytes\n"
     ]
    }
   ],
   "source": [
    "print(f'Cada elemento possui {data.itemsize} bytes')\n",
    "print(f'Toda a matriz possui {data.nbytes} bytes')"
   ]
  },
  {
   "cell_type": "code",
   "execution_count": 21,
   "metadata": {},
   "outputs": [
    {
     "name": "stdout",
     "output_type": "stream",
     "text": [
      "[ 0  1  2  3  4  5  6  7  8  9 10 11 12 13 14]\n",
      "14\n"
     ]
    }
   ],
   "source": [
    "data = np.arange(15)\n",
    "print(data)\n",
    "print(data.max())"
   ]
  }
 ],
 "metadata": {
  "kernelspec": {
   "display_name": "Python 3",
   "language": "python",
   "name": "python3"
  },
  "language_info": {
   "codemirror_mode": {
    "name": "ipython",
    "version": 3
   },
   "file_extension": ".py",
   "mimetype": "text/x-python",
   "name": "python",
   "nbconvert_exporter": "python",
   "pygments_lexer": "ipython3",
   "version": "3.11.5"
  },
  "orig_nbformat": 4
 },
 "nbformat": 4,
 "nbformat_minor": 2
}
